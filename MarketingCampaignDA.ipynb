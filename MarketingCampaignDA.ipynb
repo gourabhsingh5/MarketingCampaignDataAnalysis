{
 "cells": [
  {
   "cell_type": "code",
   "execution_count": null,
   "id": "66d956a7-4902-475e-9091-0996bd0246cb",
   "metadata": {
    "tags": []
   },
   "outputs": [],
   "source": [
    "from pyspark.sql import SparkSession\n",
    "from pyspark.sql.types import StructType, StructField, StringType, TimestampType, ArrayType\n",
    "from pyspark.sql.functions import col, to_date, hour, count, lit, struct, explode"
   ]
  },
  {
   "cell_type": "code",
   "execution_count": null,
   "id": "b6393590-c4a7-43df-b14a-8ce3dca8fe16",
   "metadata": {
    "tags": []
   },
   "outputs": [],
   "source": [
    "def define_schema():\n",
    "    ad_campaigns_schema = StructType([\n",
    "    StructField(\"campaign_id\", StringType(), True),\n",
    "    StructField(\"campaign_name\", StringType(), True),\n",
    "    StructField(\"campaign_country\", StringType(), True),\n",
    "    StructField(\"os_type\", StringType(), True),\n",
    "    StructField(\"device_type\", StringType(), True),\n",
    "    StructField(\"place_id\", StringType(), True),\n",
    "    StructField(\"user_id\", StringType(), True),\n",
    "    StructField(\"event_type\", StringType(), True),\n",
    "    StructField(\"event_time\", TimestampType(), True)  # since it’s an ISO datetime\n",
    "    ])\n",
    "\n",
    "    user_profile_schema = StructType([\n",
    "    StructField(\"user_id\", StringType(), True),\n",
    "    StructField(\"country\", StringType(), True),\n",
    "    StructField(\"gender\", StringType(), True),\n",
    "    StructField(\"age_group\", StringType(), True),\n",
    "    StructField(\"category\", ArrayType(StringType()), True)  # array of strings\n",
    "    ])\n",
    "\n",
    "    store_schema = StructType([\n",
    "    StructField(\"store_name\", StringType(), True),\n",
    "    StructField(\"place_ids\", ArrayType(StringType()), True)  # array of strings\n",
    "    ])\n",
    "    return ad_campaigns_schema, user_profile_schema, store_schema"
   ]
  },
  {
   "cell_type": "code",
   "execution_count": null,
   "id": "c570f7a7-a16b-4084-9128-aeacf9a76ebc",
   "metadata": {
    "tags": []
   },
   "outputs": [],
   "source": [
    "def load_data(spark, ad_campaigns_schema, user_profile_schema, store_schema):\n",
    "    adc_df= spark.read.option(\"multiline\", \"true\").schema(ad_campaigns_schema).json(\"/projects/marketingDA/input_data/ad_campaigns_data.json\")\n",
    "    up_df = spark.read.option(\"multiline\", \"true\").schema(user_profile_schema).json(\"/projects/marketingDA/input_data/user_profile_data.json\")\n",
    "    s_df = spark.read.option(\"multiline\", \"true\").schema(store_schema).json(\"/projects/marketingDA/input_data/store_data.json\")\n",
    "    return adc_df, up_df, s_df"
   ]
  },
  {
   "cell_type": "code",
   "execution_count": null,
   "id": "e29bcfa4",
   "metadata": {},
   "outputs": [],
   "source": [
    "def exploding_df_q1(up_df, s_df):\n",
    "    up_df= up_df.withColumn(\"category\", explode(\"category\"))\n",
    "    s_df= s_df.withColumn(\"place_ids\", explode(\"place_ids\"))\n",
    "    return up_df, s_df"
   ]
  },
  {
   "cell_type": "code",
   "execution_count": null,
   "id": "eee7a8be",
   "metadata": {},
   "outputs": [],
   "source": [
    "def sol_q1(adc_df):\n",
    "    adc_df_temp= adc_df.select(\"campaign_id\", \"os_type\", \"event_type\", to_date(col(\"event_time\")).alias(\"date\"), hour(col(\"event_time\")) \\\n",
    "        .alias(\"hour\"))\n",
    "    grouped_df= adc_df_temp.groupBy(\"campaign_id\", \"date\", \"hour\", \"os_type\", \"event_type\") \\\n",
    "            .agg(count(\"*\").alias(\"event_count\")) \\\n",
    "            .orderBy(\"event_type\")\n",
    "    grouped_df= grouped_df.withColumnRenamed(\"os_type\", \"value\").withColumn(\"type\", lit(\"os_type\")) \\\n",
    "            .select(\"campaign_id\", \"date\", \"hour\", \"type\", \"value\", \"event_type\", \"event_count\")\n",
    "    pivoted_df= grouped_df.groupBy(\"campaign_id\", \"date\", \"hour\", \"type\", \"value\").pivot(\"event_type\").sum(\"event_count\")\n",
    "    struct_df= pivoted_df.select(\"campaign_id\", \"date\", \"hour\", \"type\", \"value\", \\\n",
    "                            struct(col(\"impression\"), col(\"click\"), col(\"video ad\")).alias(\"event\"))\n",
    "    return struct_df"
   ]
  },
  {
   "cell_type": "code",
   "execution_count": null,
   "id": "02ed28e3",
   "metadata": {},
   "outputs": [],
   "source": [
    "if __name__== \"__main__\":\n",
    "    spark= SparkSession.builder \\\n",
    "       .appName(\"Marketing Campaign DA\") \\\n",
    "       .enableHiveSupport() \\\n",
    "       .getOrCreate()\n",
    "    schema= define_schema()\n",
    "    adc_df, up_df, s_df= load_data(spark, schema[0], schema[1], schema[2])\n",
    "    up_df, s_df= exploding_df_q1(up_df, s_df)\n",
    "    final_df_q1= sol_q1(adc_df)\n",
    "    final_df_q1.write.mode(\"overwrite\").json(\"/projects/marketingDA/output_data/marketing_DA/ques_1\")"
   ]
  }
 ],
 "metadata": {
  "kernelspec": {
   "display_name": "PySpark",
   "language": "python",
   "name": "pyspark"
  },
  "language_info": {
   "codemirror_mode": {
    "name": "ipython",
    "version": 3
   },
   "file_extension": ".py",
   "mimetype": "text/x-python",
   "name": "python",
   "nbconvert_exporter": "python",
   "pygments_lexer": "ipython3",
   "version": "3.11.8"
  }
 },
 "nbformat": 4,
 "nbformat_minor": 5
}
